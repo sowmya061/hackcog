{
  "cells": [
    {
      "cell_type": "code",
      "execution_count": null,
      "metadata": {
        "id": "QM_xDewpHqs-"
      },
      "outputs": [],
      "source": [
        "import pandas as pd\n",
        "import numpy as np\n",
        "from sklearn.preprocessing import StandardScaler"
      ]
    },
    {
      "cell_type": "code",
      "source": [
        "df=pd.read_csv(r'/content/asl_hackathon2.csv')\n",
        "output=df['class']\n",
        "\n",
        "output=np.array(output)\n",
        "df=df.drop(['class'],axis=1)\n",
        "arr=df.to_numpy()\n",
        "\n",
        "arr.shape"
      ],
      "metadata": {
        "colab": {
          "base_uri": "https://localhost:8080/"
        },
        "id": "_yY5Z7JGH_O5",
        "outputId": "6eda9589-72be-4822-dc94-564457994a9d"
      },
      "execution_count": null,
      "outputs": [
        {
          "output_type": "execute_result",
          "data": {
            "text/plain": [
              "(6659, 42)"
            ]
          },
          "metadata": {},
          "execution_count": 2
        }
      ]
    },
    {
      "cell_type": "code",
      "source": [
        "import tensorflow as tf\n",
        "from tensorflow import keras"
      ],
      "metadata": {
        "id": "BrSCI8aEIEDt"
      },
      "execution_count": null,
      "outputs": []
    },
    {
      "cell_type": "code",
      "source": [
        "model= tf.keras.models.Sequential([tf.keras.layers.Flatten(input_shape=(42,)),tf.keras.layers.Dense(256,activation='sigmoid'),tf.keras.layers.Dense(64,activation='sigmoid'),tf.keras.layers.Dense(25)])"
      ],
      "metadata": {
        "id": "Ub9NZFtHIFAt"
      },
      "execution_count": null,
      "outputs": []
    },
    {
      "cell_type": "code",
      "source": [
        "preds = model(arr[:1]).numpy()\n",
        "preds=tf.nn.softmax(preds).numpy()\n",
        "preds"
      ],
      "metadata": {
        "colab": {
          "base_uri": "https://localhost:8080/"
        },
        "id": "Rxhw5IJNIJYv",
        "outputId": "acd76bc0-75bf-4933-de90-7648935421ff"
      },
      "execution_count": null,
      "outputs": [
        {
          "output_type": "execute_result",
          "data": {
            "text/plain": [
              "array([[0.04691115, 0.06930969, 0.02052601, 0.06627694, 0.02675924,\n",
              "        0.05378831, 0.12236021, 0.02165456, 0.03243482, 0.03556322,\n",
              "        0.03472521, 0.02103437, 0.03083415, 0.03219243, 0.05486039,\n",
              "        0.03912967, 0.01961796, 0.04490687, 0.04081615, 0.05587054,\n",
              "        0.0180703 , 0.0148248 , 0.02468002, 0.03672261, 0.03613038]],\n",
              "      dtype=float32)"
            ]
          },
          "metadata": {},
          "execution_count": 5
        }
      ]
    },
    {
      "cell_type": "code",
      "source": [
        "loss = tf.keras.losses.SparseCategoricalCrossentropy(from_logits=True)\n",
        "model.compile(optimizer='adam',loss=loss,metrics='accuracy')"
      ],
      "metadata": {
        "id": "uqkLtzJ3IMCV"
      },
      "execution_count": null,
      "outputs": []
    },
    {
      "cell_type": "code",
      "source": [
        "history=model.fit(arr,output,epochs=25)"
      ],
      "metadata": {
        "colab": {
          "base_uri": "https://localhost:8080/"
        },
        "id": "lkFFu57yIRiV",
        "outputId": "5a927c96-e12b-4635-b79c-5e804d1fe585"
      },
      "execution_count": null,
      "outputs": [
        {
          "output_type": "stream",
          "name": "stdout",
          "text": [
            "Epoch 1/25\n",
            "209/209 [==============================] - 3s 3ms/step - loss: 3.2173 - accuracy: 0.0520\n",
            "Epoch 2/25\n",
            "209/209 [==============================] - 1s 3ms/step - loss: 3.1099 - accuracy: 0.1000\n",
            "Epoch 3/25\n",
            "209/209 [==============================] - 1s 3ms/step - loss: 2.6783 - accuracy: 0.2197\n",
            "Epoch 4/25\n",
            "209/209 [==============================] - 1s 3ms/step - loss: 2.1967 - accuracy: 0.3547\n",
            "Epoch 5/25\n",
            "209/209 [==============================] - 1s 3ms/step - loss: 1.8019 - accuracy: 0.5118\n",
            "Epoch 6/25\n",
            "209/209 [==============================] - 1s 4ms/step - loss: 1.4805 - accuracy: 0.6354\n",
            "Epoch 7/25\n",
            "209/209 [==============================] - 1s 5ms/step - loss: 1.2291 - accuracy: 0.7459\n",
            "Epoch 8/25\n",
            "209/209 [==============================] - 1s 5ms/step - loss: 1.0283 - accuracy: 0.8210\n",
            "Epoch 9/25\n",
            "209/209 [==============================] - 1s 4ms/step - loss: 0.8605 - accuracy: 0.8749\n",
            "Epoch 10/25\n",
            "209/209 [==============================] - 1s 3ms/step - loss: 0.7171 - accuracy: 0.9031\n",
            "Epoch 11/25\n",
            "209/209 [==============================] - 1s 3ms/step - loss: 0.5957 - accuracy: 0.9225\n",
            "Epoch 12/25\n",
            "209/209 [==============================] - 1s 3ms/step - loss: 0.4934 - accuracy: 0.9320\n",
            "Epoch 13/25\n",
            "209/209 [==============================] - 1s 3ms/step - loss: 0.4123 - accuracy: 0.9419\n",
            "Epoch 14/25\n",
            "209/209 [==============================] - 1s 3ms/step - loss: 0.3480 - accuracy: 0.9531\n",
            "Epoch 15/25\n",
            "209/209 [==============================] - 1s 3ms/step - loss: 0.2991 - accuracy: 0.9552\n",
            "Epoch 16/25\n",
            "209/209 [==============================] - 1s 3ms/step - loss: 0.2581 - accuracy: 0.9602\n",
            "Epoch 17/25\n",
            "209/209 [==============================] - 1s 3ms/step - loss: 0.2277 - accuracy: 0.9650\n",
            "Epoch 18/25\n",
            "209/209 [==============================] - 1s 3ms/step - loss: 0.2012 - accuracy: 0.9700\n",
            "Epoch 19/25\n",
            "209/209 [==============================] - 1s 3ms/step - loss: 0.1792 - accuracy: 0.9695\n",
            "Epoch 20/25\n",
            "209/209 [==============================] - 1s 3ms/step - loss: 0.1634 - accuracy: 0.9688\n",
            "Epoch 21/25\n",
            "209/209 [==============================] - 1s 3ms/step - loss: 0.1501 - accuracy: 0.9701\n",
            "Epoch 22/25\n",
            "209/209 [==============================] - 1s 3ms/step - loss: 0.1383 - accuracy: 0.9722\n",
            "Epoch 23/25\n",
            "209/209 [==============================] - 1s 4ms/step - loss: 0.1284 - accuracy: 0.9749\n",
            "Epoch 24/25\n",
            "209/209 [==============================] - 1s 5ms/step - loss: 0.1193 - accuracy: 0.9760\n",
            "Epoch 25/25\n",
            "209/209 [==============================] - 1s 4ms/step - loss: 0.1155 - accuracy: 0.9730\n"
          ]
        }
      ]
    },
    {
      "cell_type": "code",
      "source": [
        "from matplotlib import pyplot as plt\n",
        "plt.plot(history.history['accuracy'])\n",
        "plt.plot(history.history['loss'])\n",
        "plt.show()"
      ],
      "metadata": {
        "colab": {
          "base_uri": "https://localhost:8080/",
          "height": 430
        },
        "id": "pakFC4_ZJ8-W",
        "outputId": "0fe0f488-ad50-4732-f1aa-b12bd6ba53ef"
      },
      "execution_count": null,
      "outputs": [
        {
          "output_type": "display_data",
          "data": {
            "text/plain": [
              "<Figure size 640x480 with 1 Axes>"
            ],
            "image/png": "[encoded data removed]"
          },
          "metadata": {}
        }
      ]
    },
    {
      "cell_type": "code",
      "source": [
        "model.save('weights_asl_hackathon.keras')"
      ],
      "metadata": {
        "id": "3p02ecfmKCiW"
      },
      "execution_count": null,
      "outputs": []
    }
  ],
  "metadata": {
    "accelerator": "GPU",
    "colab": {
      "provenance": [],
      "gpuType": "T4"
    },
    "kernelspec": {
      "display_name": "Python 3",
      "name": "python3"
    },
    "language_info": {
      "name": "python"
    }
  },
  "nbformat": 4,
  "nbformat_minor": 0
}