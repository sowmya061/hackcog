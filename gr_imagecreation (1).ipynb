{
 "cells": [
  {
   "cell_type": "code",
   "execution_count": 1,
   "id": "8ba95857",
   "metadata": {},
   "outputs": [],
   "source": [
    "import cv2 as cv\n",
    "import os"
   ]
  },
  {
   "cell_type": "code",
   "execution_count": 2,
   "id": "b1ac6597",
   "metadata": {},
   "outputs": [],
   "source": [
    "def save(dir_path,basename):\n",
    "    vid=cv.VideoCapture(0)\n",
    "    os.makedirs(dir_path,exist_ok=True)\n",
    "    base_path=os.path.join(dir_path, basename)\n",
    "    n=0\n",
    "    while True:\n",
    "        ret,frame=vid.read()\n",
    "        cv.rectangle(frame, (100, 100), (350, 400), (255, 0, 0), 10)\n",
    "        cv.imshow('',frame)\n",
    "        key=cv.waitKey(1) & 0xFF \n",
    "        if key == ord('c'):\n",
    "            cv.imwrite('{}_{}.{}'.format(base_path, n, '.jpg'), frame)\n",
    "            n=n+1\n",
    "        elif key == ord('q'):\n",
    "            break\n",
    "    vid.release()\n",
    "    cv.destroyAllWindows()\n",
    "    \n",
    "\n",
    "\n",
    "\n",
    "\n",
    "    \n",
    "    \n",
    "    \n",
    "    \n",
    "        \n"
   ]
  },
  {
   "cell_type": "code",
   "execution_count": 29,
   "id": "ad74cd4c",
   "metadata": {},
   "outputs": [],
   "source": [
    "save('24','')#did this for all 25 classes(~280 images each)"
   ]
  },
  {
   "cell_type": "code",
   "execution_count": null,
   "id": "10598076",
   "metadata": {},
   "outputs": [],
   "source": []
  }
 ],
 "metadata": {
  "kernelspec": {
   "display_name": "Python 3 (ipykernel)",
   "language": "python",
   "name": "python3"
  },
  "language_info": {
   "codemirror_mode": {
    "name": "ipython",
    "version": 3
   },
   "file_extension": ".py",
   "mimetype": "text/x-python",
   "name": "python",
   "nbconvert_exporter": "python",
   "pygments_lexer": "ipython3",
   "version": "3.9.13"
  }
 },
 "nbformat": 4,
 "nbformat_minor": 5
}
